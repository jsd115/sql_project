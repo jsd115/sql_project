{
 "cells": [
  {
   "cell_type": "code",
   "execution_count": 1,
   "metadata": {},
   "outputs": [],
   "source": [
    "# Import pandas library\n",
    "import pandas as pd"
   ]
  },
  {
   "cell_type": "code",
   "execution_count": 2,
   "metadata": {},
   "outputs": [
    {
     "data": {
      "text/html": [
       "<div>\n",
       "<style scoped>\n",
       "    .dataframe tbody tr th:only-of-type {\n",
       "        vertical-align: middle;\n",
       "    }\n",
       "\n",
       "    .dataframe tbody tr th {\n",
       "        vertical-align: top;\n",
       "    }\n",
       "\n",
       "    .dataframe thead th {\n",
       "        text-align: right;\n",
       "    }\n",
       "</style>\n",
       "<table border=\"1\" class=\"dataframe\">\n",
       "  <thead>\n",
       "    <tr style=\"text-align: right;\">\n",
       "      <th></th>\n",
       "      <th>idx</th>\n",
       "      <th>transaction_id</th>\n",
       "      <th>user_id</th>\n",
       "      <th>transaction_date</th>\n",
       "      <th>product_category</th>\n",
       "      <th>product_name</th>\n",
       "      <th>merchant_name</th>\n",
       "      <th>product_amount</th>\n",
       "      <th>transaction_fee</th>\n",
       "      <th>cashback</th>\n",
       "      <th>loyalty_points</th>\n",
       "      <th>payment_method</th>\n",
       "      <th>transaction_status</th>\n",
       "      <th>merchant_id</th>\n",
       "      <th>device_type</th>\n",
       "      <th>location</th>\n",
       "    </tr>\n",
       "  </thead>\n",
       "  <tbody>\n",
       "    <tr>\n",
       "      <th>0</th>\n",
       "      <td>1</td>\n",
       "      <td>4dac3ea3-6492-46ec-80b8-dc45c3ad0b14</td>\n",
       "      <td>USER_05159</td>\n",
       "      <td>2023-08-19 03:32</td>\n",
       "      <td>Rent Payment</td>\n",
       "      <td>2BHK Flat Deposit</td>\n",
       "      <td>Airbnb</td>\n",
       "      <td>1525.39</td>\n",
       "      <td>36.69</td>\n",
       "      <td>19.19</td>\n",
       "      <td>186</td>\n",
       "      <td>Debit Card</td>\n",
       "      <td>Successful</td>\n",
       "      <td>MERCH_0083</td>\n",
       "      <td>iOS</td>\n",
       "      <td>Urban</td>\n",
       "    </tr>\n",
       "    <tr>\n",
       "      <th>1</th>\n",
       "      <td>2</td>\n",
       "      <td>a903ed9f-eb84-47e7-b8aa-fd1786c919cf</td>\n",
       "      <td>USER_07204</td>\n",
       "      <td>2023-08-19 04:37</td>\n",
       "      <td>Gas Bill</td>\n",
       "      <td>Commercial Gas Connection</td>\n",
       "      <td>Adani Gas</td>\n",
       "      <td>1495.40</td>\n",
       "      <td>28.19</td>\n",
       "      <td>89.99</td>\n",
       "      <td>182</td>\n",
       "      <td>UPI</td>\n",
       "      <td>Successful</td>\n",
       "      <td>MERCH_0163</td>\n",
       "      <td>iOS</td>\n",
       "      <td>Urban</td>\n",
       "    </tr>\n",
       "    <tr>\n",
       "      <th>2</th>\n",
       "      <td>3</td>\n",
       "      <td>2a393013-733c-4add-9f09-bed1eeb33676</td>\n",
       "      <td>USER_00903</td>\n",
       "      <td>2023-08-19 05:52</td>\n",
       "      <td>Bus Ticket</td>\n",
       "      <td>Semi-Sleeper</td>\n",
       "      <td>MakeMyTrip Bus</td>\n",
       "      <td>1267.71</td>\n",
       "      <td>11.36</td>\n",
       "      <td>95.70</td>\n",
       "      <td>994</td>\n",
       "      <td>UPI</td>\n",
       "      <td>Successful</td>\n",
       "      <td>MERCH_0320</td>\n",
       "      <td>iOS</td>\n",
       "      <td>Urban</td>\n",
       "    </tr>\n",
       "    <tr>\n",
       "      <th>3</th>\n",
       "      <td>4</td>\n",
       "      <td>9a07ad19-4673-4794-9cd2-9b139f39c715</td>\n",
       "      <td>USER_01769</td>\n",
       "      <td>2023-08-19 06:35</td>\n",
       "      <td>Internet Bill</td>\n",
       "      <td>4G Unlimited Plan</td>\n",
       "      <td>Airtel Broadband</td>\n",
       "      <td>9202.63</td>\n",
       "      <td>6.41</td>\n",
       "      <td>82.24</td>\n",
       "      <td>409</td>\n",
       "      <td>Debit Card</td>\n",
       "      <td>Successful</td>\n",
       "      <td>MERCH_0194</td>\n",
       "      <td>Android</td>\n",
       "      <td>Urban</td>\n",
       "    </tr>\n",
       "    <tr>\n",
       "      <th>4</th>\n",
       "      <td>5</td>\n",
       "      <td>76418260-c985-4011-979d-0914604d0d68</td>\n",
       "      <td>USER_03544</td>\n",
       "      <td>2023-08-19 06:36</td>\n",
       "      <td>Loan Repayment</td>\n",
       "      <td>Home Loan EMI</td>\n",
       "      <td>Axis Bank</td>\n",
       "      <td>3100.58</td>\n",
       "      <td>41.15</td>\n",
       "      <td>40.47</td>\n",
       "      <td>837</td>\n",
       "      <td>Debit Card</td>\n",
       "      <td>Successful</td>\n",
       "      <td>MERCH_0504</td>\n",
       "      <td>Android</td>\n",
       "      <td>Urban</td>\n",
       "    </tr>\n",
       "  </tbody>\n",
       "</table>\n",
       "</div>"
      ],
      "text/plain": [
       "   idx                        transaction_id     user_id  transaction_date  \\\n",
       "0    1  4dac3ea3-6492-46ec-80b8-dc45c3ad0b14  USER_05159  2023-08-19 03:32   \n",
       "1    2  a903ed9f-eb84-47e7-b8aa-fd1786c919cf  USER_07204  2023-08-19 04:37   \n",
       "2    3  2a393013-733c-4add-9f09-bed1eeb33676  USER_00903  2023-08-19 05:52   \n",
       "3    4  9a07ad19-4673-4794-9cd2-9b139f39c715  USER_01769  2023-08-19 06:35   \n",
       "4    5  76418260-c985-4011-979d-0914604d0d68  USER_03544  2023-08-19 06:36   \n",
       "\n",
       "  product_category               product_name     merchant_name  \\\n",
       "0     Rent Payment          2BHK Flat Deposit            Airbnb   \n",
       "1         Gas Bill  Commercial Gas Connection         Adani Gas   \n",
       "2       Bus Ticket               Semi-Sleeper    MakeMyTrip Bus   \n",
       "3    Internet Bill          4G Unlimited Plan  Airtel Broadband   \n",
       "4   Loan Repayment              Home Loan EMI         Axis Bank   \n",
       "\n",
       "   product_amount  transaction_fee  cashback  loyalty_points payment_method  \\\n",
       "0         1525.39            36.69     19.19             186     Debit Card   \n",
       "1         1495.40            28.19     89.99             182            UPI   \n",
       "2         1267.71            11.36     95.70             994            UPI   \n",
       "3         9202.63             6.41     82.24             409     Debit Card   \n",
       "4         3100.58            41.15     40.47             837     Debit Card   \n",
       "\n",
       "  transaction_status merchant_id device_type location  \n",
       "0         Successful  MERCH_0083         iOS    Urban  \n",
       "1         Successful  MERCH_0163         iOS    Urban  \n",
       "2         Successful  MERCH_0320         iOS    Urban  \n",
       "3         Successful  MERCH_0194     Android    Urban  \n",
       "4         Successful  MERCH_0504     Android    Urban  "
      ]
     },
     "execution_count": 2,
     "metadata": {},
     "output_type": "execute_result"
    }
   ],
   "source": [
    "# Read the data from the file\n",
    "data = pd.read_csv('digital_wallet_transactions.csv')\n",
    "\n",
    "# Display the first few rows of the data\n",
    "data.head()"
   ]
  },
  {
   "cell_type": "code",
   "execution_count": 3,
   "metadata": {},
   "outputs": [
    {
     "data": {
      "text/plain": [
       "(5000, 16)"
      ]
     },
     "execution_count": 3,
     "metadata": {},
     "output_type": "execute_result"
    }
   ],
   "source": [
    "# Display the shape of the data\n",
    "data.shape"
   ]
  },
  {
   "cell_type": "code",
   "execution_count": 4,
   "metadata": {},
   "outputs": [
    {
     "data": {
      "text/plain": [
       "idx                   0\n",
       "transaction_id        0\n",
       "user_id               0\n",
       "transaction_date      0\n",
       "product_category      0\n",
       "product_name          0\n",
       "merchant_name         0\n",
       "product_amount        0\n",
       "transaction_fee       0\n",
       "cashback              0\n",
       "loyalty_points        0\n",
       "payment_method        0\n",
       "transaction_status    0\n",
       "merchant_id           0\n",
       "device_type           0\n",
       "location              0\n",
       "dtype: int64"
      ]
     },
     "execution_count": 4,
     "metadata": {},
     "output_type": "execute_result"
    }
   ],
   "source": [
    "# Count the number of missing values in each column\n",
    "data.isna().sum()"
   ]
  },
  {
   "cell_type": "code",
   "execution_count": 5,
   "metadata": {},
   "outputs": [
    {
     "data": {
      "text/plain": [
       "True"
      ]
     },
     "execution_count": 5,
     "metadata": {},
     "output_type": "execute_result"
    }
   ],
   "source": [
    "# Check if transaction_id ever repeats\n",
    "data['transaction_id'].nunique() == data.shape[0]"
   ]
  },
  {
   "cell_type": "code",
   "execution_count": 6,
   "metadata": {},
   "outputs": [
    {
     "data": {
      "text/plain": [
       "idx                     int64\n",
       "transaction_id         object\n",
       "user_id                object\n",
       "transaction_date       object\n",
       "product_category       object\n",
       "product_name           object\n",
       "merchant_name          object\n",
       "product_amount        float64\n",
       "transaction_fee       float64\n",
       "cashback              float64\n",
       "loyalty_points          int64\n",
       "payment_method         object\n",
       "transaction_status     object\n",
       "merchant_id            object\n",
       "device_type            object\n",
       "location               object\n",
       "dtype: object"
      ]
     },
     "execution_count": 6,
     "metadata": {},
     "output_type": "execute_result"
    }
   ],
   "source": [
    "# Get types in each column\n",
    "data.dtypes"
   ]
  },
  {
   "cell_type": "code",
   "execution_count": 7,
   "metadata": {},
   "outputs": [
    {
     "data": {
      "text/plain": [
       "idx                   5000\n",
       "transaction_id        5000\n",
       "user_id               3932\n",
       "transaction_date      4978\n",
       "product_category        20\n",
       "product_name           100\n",
       "merchant_name           97\n",
       "product_amount        4990\n",
       "transaction_fee       3175\n",
       "cashback              3959\n",
       "loyalty_points         995\n",
       "payment_method           5\n",
       "transaction_status       3\n",
       "merchant_id            987\n",
       "device_type              3\n",
       "location                 3\n",
       "dtype: int64"
      ]
     },
     "execution_count": 7,
     "metadata": {},
     "output_type": "execute_result"
    }
   ],
   "source": [
    "# Count the number of unique values in each column\n",
    "data.nunique()"
   ]
  },
  {
   "cell_type": "code",
   "execution_count": null,
   "metadata": {},
   "outputs": [],
   "source": []
  }
 ],
 "metadata": {
  "kernelspec": {
   "display_name": "Python 3",
   "language": "python",
   "name": "python3"
  },
  "language_info": {
   "codemirror_mode": {
    "name": "ipython",
    "version": 3
   },
   "file_extension": ".py",
   "mimetype": "text/x-python",
   "name": "python",
   "nbconvert_exporter": "python",
   "pygments_lexer": "ipython3",
   "version": "3.11.1"
  }
 },
 "nbformat": 4,
 "nbformat_minor": 2
}
